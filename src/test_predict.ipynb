{
 "cells": [
  {
   "cell_type": "code",
   "execution_count": 1,
   "outputs": [],
   "source": [
    "from src.dataset.Dataset import Dataset\n",
    "from os.path import join,basename\n",
    "from os import makedirs\n",
    "import json\n",
    "from tqdm import tqdm\n",
    "from experiments import DataRefiner\n",
    "from dataset.DataPreprocessor import DataPreprocessor\n",
    "from labelregions.LabelRegionLoader import LabelRegionLoader\n",
    "from experiments.CrossValidationTraining import CrossValidationTraining\n",
    "import experiments.EdgePropabilityCallback as EdgePropabilityCallback"
   ],
   "metadata": {
    "collapsed": false,
    "ExecuteTime": {
     "end_time": "2023-05-28T03:25:55.282156269Z",
     "start_time": "2023-05-28T03:25:55.073658591Z"
    },
    "pycharm": {
     "name": "#%%\n"
    }
   }
  },
  {
   "cell_type": "code",
   "execution_count": 2,
   "outputs": [],
   "source": [
    "DATA_DIR = '../data'"
   ],
   "metadata": {
    "collapsed": false,
    "ExecuteTime": {
     "end_time": "2023-05-28T03:25:55.285043485Z",
     "start_time": "2023-05-28T03:25:55.283502350Z"
    },
    "pycharm": {
     "name": "#%%\n"
    }
   }
  },
  {
   "cell_type": "code",
   "execution_count": 3,
   "outputs": [],
   "source": [
    "DECO = Dataset(join(DATA_DIR, \"Deco\"), \"Deco\")\n",
    "FUSTE = Dataset(join(DATA_DIR, \"FusTe\"), \"FusTe\")\n",
    "TEST = Dataset(join(DATA_DIR, \"Test\"), \"Test\")"
   ],
   "metadata": {
    "collapsed": false,
    "ExecuteTime": {
     "end_time": "2023-05-28T03:25:55.371887998Z",
     "start_time": "2023-05-28T03:25:55.285161566Z"
    },
    "pycharm": {
     "name": "#%%\n"
    }
   }
  },
  {
   "cell_type": "code",
   "execution_count": 4,
   "outputs": [],
   "source": [
    "datasets = dict([(ds.name, ds) for ds in [DECO, FUSTE, TEST]])\n",
    "dataset = datasets['Deco']\n",
    "data_preprocessor = DataPreprocessor(DATA_DIR, \"preprocessed_annotations_elements.json\")\n",
    "data_preprocessor.preprocess(dataset.name)"
   ],
   "metadata": {
    "collapsed": false,
    "ExecuteTime": {
     "end_time": "2023-05-28T03:25:55.467402334Z",
     "start_time": "2023-05-28T03:25:55.373071543Z"
    },
    "pycharm": {
     "name": "#%%\n"
    }
   }
  },
  {
   "cell_type": "code",
   "execution_count": 5,
   "outputs": [],
   "source": [
    "DataRefiner.refine(dataset)"
   ],
   "metadata": {
    "collapsed": false,
    "ExecuteTime": {
     "end_time": "2023-05-28T03:25:55.578627224Z",
     "start_time": "2023-05-28T03:25:55.464797723Z"
    },
    "pycharm": {
     "name": "#%%\n"
    }
   }
  },
  {
   "cell_type": "code",
   "execution_count": 6,
   "outputs": [],
   "source": [
    "label_region_loader = LabelRegionLoader(introduce_noise=False)"
   ],
   "metadata": {
    "collapsed": false,
    "ExecuteTime": {
     "end_time": "2023-05-28T03:25:55.680066027Z",
     "start_time": "2023-05-28T03:25:55.625711001Z"
    },
    "pycharm": {
     "name": "#%%\n"
    }
   }
  },
  {
   "cell_type": "code",
   "execution_count": 7,
   "outputs": [],
   "source": [
    "edge_probability_callback = EdgePropabilityCallback.default_edge_mutation_probability_callback\n",
    "experiment_class = CrossValidationTraining"
   ],
   "metadata": {
    "collapsed": false,
    "ExecuteTime": {
     "end_time": "2023-05-28T03:25:55.771201622Z",
     "start_time": "2023-05-28T03:25:55.680561862Z"
    },
    "pycharm": {
     "name": "#%%\n"
    }
   }
  },
  {
   "cell_type": "code",
   "execution_count": 8,
   "outputs": [],
   "source": [
    "import uuid\n",
    "\n",
    "k=10\n",
    "weight_tuning_rounds = 10\n",
    "search_rounds = 10\n",
    "noise_part = 'noise' if label_region_loader.introduce_noise else 'no_noise'\n",
    "run_id = uuid.uuid1().hex\n",
    "dir_name = f\"{noise_part}_{1}_{run_id}\"\n",
    "out_path = join('../jupy/output/', 'NoImprovement', dataset.name, dir_name)\n",
    "makedirs(out_path, exist_ok=True)"
   ],
   "metadata": {
    "collapsed": false,
    "ExecuteTime": {
     "end_time": "2023-05-28T03:25:55.864771709Z",
     "start_time": "2023-05-28T03:25:55.813656586Z"
    },
    "pycharm": {
     "name": "#%%\n"
    }
   }
  },
  {
   "cell_type": "code",
   "execution_count": 9,
   "outputs": [],
   "source": [
    "from random import shuffle\n",
    "from typing import List, Dict\n",
    "from numpy import array_split\n",
    "\n",
    "def get_folds() -> List[Dict[str, List]]:\n",
    "    \"\"\"Creates folds for cross validation while balancing single and multi table files per fold\"\"\"\n",
    "    single_table_keys = dataset.single_table_keys\n",
    "    multi_table_keys = dataset.multi_table_keys\n",
    "\n",
    "    shuffle(single_table_keys)\n",
    "    shuffle(multi_table_keys)\n",
    "\n",
    "    single_table_chunks = array_split(single_table_keys, k)\n",
    "    multi_table_chunks = array_split(multi_table_keys, k)\n",
    "\n",
    "    # Combine Single and Multi Table Chunks to test folds\n",
    "    test_chunks = [list(s_chunk) + list(m_chunk) for s_chunk, m_chunk in\n",
    "                   zip(single_table_chunks, multi_table_chunks)]\n",
    "    # Train fold is all keys without the test fold\n",
    "    train_chunks = [list(set(dataset.keys).difference(test_chunk)) for test_chunk in test_chunks]\n",
    "\n",
    "    return [{\"train\": train_chunk, \"test\": test_chunk} for train_chunk, test_chunk in\n",
    "            zip(train_chunks, test_chunks)]\n",
    "\n",
    "def dump(file_name, data, subdir=\"\"):\n",
    "    \"\"\"Dump given data to a json file\"\"\"\n",
    "    if subdir != \"\":\n",
    "        makedirs(join(out_path, subdir), exist_ok=True)\n",
    "    with open(join(out_path, subdir, file_name), \"w\") as f:\n",
    "        json.dump(data, f, ensure_ascii=False, indent=4)"
   ],
   "metadata": {
    "collapsed": false,
    "ExecuteTime": {
     "end_time": "2023-05-28T03:25:55.972502061Z",
     "start_time": "2023-05-28T03:25:55.867305653Z"
    },
    "pycharm": {
     "name": "#%%\n"
    }
   }
  },
  {
   "cell_type": "code",
   "execution_count": 10,
   "outputs": [],
   "source": [
    "folds = get_folds()\n",
    "dump(\"config.json\", {\n",
    "            \"dataset\": dataset.name,\n",
    "            \"noise\": label_region_loader.introduce_noise,\n",
    "            \"k\": k,\n",
    "            \"weight_tuning_rounds\": weight_tuning_rounds,\n",
    "            \"search_rounds\": search_rounds,\n",
    "            \"seed\": 1,\n",
    "        })\n",
    "dump(\"folds.json\", dict([(i, fold) for i, fold in enumerate(folds)]))\n"
   ],
   "metadata": {
    "collapsed": false,
    "ExecuteTime": {
     "end_time": "2023-05-28T03:25:56.102102992Z",
     "start_time": "2023-05-28T03:25:55.973929162Z"
    },
    "pycharm": {
     "name": "#%%\n"
    }
   }
  },
  {
   "cell_type": "code",
   "execution_count": 11,
   "outputs": [],
   "source": [
    "from src.experiments import Analyser\n",
    "from src.search.GeneticSearchConfiguration import GeneticSearchConfiguration\n",
    "from src.search.GeneticSearch import GeneticSearch\n",
    "from src.graph.SpreadSheetGraph import SpreadSheetGraph\n",
    "from src.search.FitnessRater import FitnessRater, get_initial_weights\n",
    "from labelregions.BoundingBox import BoundingBox\n",
    "from scipy.optimize import minimize, Bounds\n",
    "from graph.Edge import Edge\n",
    "from typing import Union, Callable\n",
    "edge_mutation_probability_callback: Callable[[Edge], int] = lambda x: 1\n",
    "def genetic_search_accuracy(\n",
    "        ground_truth: List[BoundingBox],\n",
    "        sheet_graph: SpreadSheetGraph,\n",
    "        rater: FitnessRater,\n",
    "):\n",
    "    \"\"\"Runs genetic searches, evaluates the results against the ground truth, and returns the avg. accuracy score\"\"\"\n",
    "    search = GeneticSearch(\n",
    "        sheet_graph,\n",
    "        rater,\n",
    "        GeneticSearchConfiguration(\n",
    "            sheet_graph,\n",
    "            edge_mutation_probability_callback=edge_mutation_probability_callback,\n",
    "        ),\n",
    "    )\n",
    "    # Genetic Search runs multiple times and gets averaged\n",
    "    results = [search.run() for _ in range(search_rounds)]\n",
    "\n",
    "    print('------------------result---------------------')\n",
    "    for result in  results:\n",
    "        for item in result.get_table_definitions():\n",
    "            print(item)\n",
    "    print('---------------------------------------------')\n",
    "\n",
    "    accuracies = [\n",
    "        Analyser.accuracy_based_on_jacard_index(ground_truth, result.get_table_definitions())\n",
    "        for result in results\n",
    "    ]\n",
    "    return sum(accuracies) / len(accuracies)\n",
    "\n",
    "def process_fold( fold: Dict[str, List], fold_num: int) -> float:\n",
    "    \"\"\"Evaluates on fold of the cross validation, returns the accuracy of the fold\"\"\"\n",
    "    # Train multiple rounds\n",
    "    # weights_and_errors = [\n",
    "    #     train(fold[\"train\"], fold_num, i)\n",
    "    #     for i in tqdm(range(weight_tuning_rounds), desc=f\"Training Rounds of fold {fold_num}\")\n",
    "    # ]\n",
    "    # Average the training results weighted by their error\n",
    "\n",
    "    #加载权重\n",
    "    with open('/Users/lizixuan/Desktop/output/NoImprovement/Deco/no_noise_1_fe301df8eb2111eda40ee0be0345a1e0/fold_9/fold_9_weights.json') as file:\n",
    "        weights_and_errors = json.load(file)\n",
    "        for e in weights_and_errors['weights_and_errors']:\n",
    "            print(e['error_rate'])\n",
    "    weights = CrossValidationTraining.weighted_average(weights_and_errors['weights_and_errors'])\n",
    "\n",
    "\n",
    "\n",
    "    dump(\n",
    "        f\"fold_{fold_num}_weights.json\",\n",
    "        {\"weights_and_errors\": weights_and_errors, \"weights\": weights},\n",
    "        subdir=f\"fold_{fold_num}\"\n",
    "    )\n",
    "    # Test accuracies on gold standard\n",
    "    # Disable any noise\n",
    "    label_region_loader.introduce_noise = False\n",
    "    file_accuracies = {}\n",
    "    for key in tqdm(fold[\"test\"], desc=f\"Test Set Validation of fold {fold_num}\"):\n",
    "        # Get ground truth data\n",
    "        print('#########################################################################')\n",
    "        sheet_data = dataset.get_specific_sheetdata(key, label_region_loader)\n",
    "        sheet_graph = SpreadSheetGraph(sheet_data)\n",
    "        ground_truth = sheet_graph.get_table_definitions()\n",
    "\n",
    "        print('------------------Truth---------------------')\n",
    "        for item in ground_truth:\n",
    "            print(item)\n",
    "        print('---------------------------------------------')\n",
    "\n",
    "        print('*********************************')\n",
    "        print(f'sheet_data:{sheet_data}')\n",
    "        print(f'sheet_graph:{sheet_graph}')\n",
    "        print(f'ground_truth:{ground_truth}')\n",
    "        print('*********************************')\n",
    "\n",
    "        # Evaluate the prediction\n",
    "        rater = FitnessRater(weights)\n",
    "        if len(sheet_graph.nodes) <= 10:\n",
    "            accuracy = CrossValidationTraining.exhaustive_search_accuracy(ground_truth, sheet_graph, rater)\n",
    "        else:\n",
    "            accuracy = genetic_search_accuracy(ground_truth, sheet_graph, rater)\n",
    "        file_accuracies[key] = accuracy\n",
    "        print('#########################################################################')\n",
    "    # Average fold accuracies of test data\n",
    "    fold_accuracy = sum(file_accuracies.values()) / len(file_accuracies.values())\n",
    "    dump(\n",
    "        f\"fold_{fold_num}_file_accuracies.json\",\n",
    "        {\"fold_file_accuracies\": file_accuracies, \"fold_accuracy\": fold_accuracy},\n",
    "        subdir=f\"fold_{fold_num}\",\n",
    "    )\n",
    "    return fold_accuracy\n",
    "\n",
    "def train( train_keys: List[str], fold_num: int, training_round: int) -> Dict[str, Union[List[float], float]]:\n",
    "    \"\"\"Performs SQP on the given keys, outputs the resulting weights and their error rate\"\"\"\n",
    "    graphs = [\n",
    "        SpreadSheetGraph(dataset.get_specific_sheetdata(key, label_region_loader))\n",
    "        for key in train_keys\n",
    "    ]\n",
    "    partitions = {}\n",
    "    for graph in graphs:\n",
    "        # Create more alternative partitions on multi table files (10 alternatives per table in file)\n",
    "        partitions[graph] = CrossValidationTraining.generate_alternatives(graph, 10 * len(graph.get_components()))\n",
    "    dump(\n",
    "        f\"fold_{fold_num}_training_round_{training_round}_input.json\",\n",
    "        dict([(str(graph.sheet_data), partitions) for graph, partitions in partitions.items()]),\n",
    "        subdir=join(f\"fold_{fold_num}\", \"training\")\n",
    "    )\n",
    "    initial_weights = get_initial_weights()\n",
    "    # Create rater object outside to leverage caching\n",
    "    rater = FitnessRater(initial_weights)\n",
    "    # Use SQP to minimize the obj. function\n",
    "    res = minimize(\n",
    "        CrossValidationTraining.objective_function,\n",
    "        initial_weights,\n",
    "        args=(partitions, rater),\n",
    "        method=\"SLSQP\",\n",
    "        bounds=Bounds(0, 1000),\n",
    "    )\n",
    "    weights = list(res.x)\n",
    "    rater.weights = weights\n",
    "    # Calculate error rate components\n",
    "    total_alternative_count = 0\n",
    "    better_than_original_alternative_count = 0\n",
    "    for graph, alternatives in partitions.items():\n",
    "        obj_score_original_graph = rater.rate(graph, graph.edge_toggle_list)\n",
    "        total_alternative_count += len(alternatives)\n",
    "        better_than_original_alternative_count += len([\n",
    "            alternative\n",
    "            for alternative in alternatives\n",
    "            if rater.rate(graph, alternative) < obj_score_original_graph\n",
    "        ])\n",
    "    dump(\n",
    "        f\"fold_{fold_num}_training_round_{training_round}_result.json\",\n",
    "        {\n",
    "            \"weights\": weights,\n",
    "            \"total_alternative_count\": total_alternative_count,\n",
    "            \"better_than_original_alternative_count\": better_than_original_alternative_count,\n",
    "        },\n",
    "        subdir=join(f\"fold_{fold_num}\", \"training\"),\n",
    "    )\n",
    "    return {\"weights\": weights, \"error_rate\": better_than_original_alternative_count / total_alternative_count}"
   ],
   "metadata": {
    "collapsed": false,
    "ExecuteTime": {
     "end_time": "2023-05-28T03:25:56.208264396Z",
     "start_time": "2023-05-28T03:25:56.102909251Z"
    },
    "pycharm": {
     "name": "#%%\n"
    }
   }
  },
  {
   "cell_type": "code",
   "execution_count": 12,
   "outputs": [
    {
     "name": "stderr",
     "output_type": "stream",
     "text": [
      "0it [00:00, ?it/s]\n",
      "Test Set Validation of fold 0:   0%|          | 0/63 [00:00<?, ?it/s]\u001B[A"
     ]
    },
    {
     "name": "stdout",
     "output_type": "stream",
     "text": [
      "0.021444444444444443\n",
      "0.019222222222222224\n",
      "0.022555555555555554\n",
      "0.022555555555555554\n",
      "0.02188888888888889\n",
      "0.025444444444444443\n",
      "0.021\n",
      "0.023555555555555555\n",
      "0.021444444444444443\n",
      "0.022444444444444444\n",
      "#########################################################################\n",
      "------------------Truth---------------------\n",
      "\"top\": 5\n",
      "\"left\": 1\n",
      "\"bottom\": 37\n",
      "\"right\": 1\n",
      "---------------------------------------------\n",
      "*********************************\n",
      "sheet_data:Sheetdata(JAN01 of ../data/Deco/xls/john_forney__15502__SCHED2001.xlsx\n",
      "sheet_graph:<src.graph.SpreadSheetGraph.SpreadSheetGraph object at 0x136a8b3a0>\n",
      "ground_truth:[<labelregions.BoundingBox.BoundingBox object at 0x136a8b370>]\n",
      "*********************************\n"
     ]
    },
    {
     "name": "stderr",
     "output_type": "stream",
     "text": [
      "\n",
      "Test Set Validation of fold 0:   2%|▏         | 1/63 [01:36<1:39:50, 96.63s/it]\u001B[A"
     ]
    },
    {
     "name": "stdout",
     "output_type": "stream",
     "text": [
      "------------------result---------------------\n",
      "\"top\": 5\n",
      "\"left\": 1\n",
      "\"bottom\": 37\n",
      "\"right\": 1\n",
      "\"top\": 6\n",
      "\"left\": 2\n",
      "\"bottom\": 8\n",
      "\"right\": 2\n",
      "\"top\": 5\n",
      "\"left\": 1\n",
      "\"bottom\": 37\n",
      "\"right\": 1\n",
      "\"top\": 6\n",
      "\"left\": 2\n",
      "\"bottom\": 8\n",
      "\"right\": 2\n",
      "\"top\": 5\n",
      "\"left\": 1\n",
      "\"bottom\": 37\n",
      "\"right\": 1\n",
      "\"top\": 6\n",
      "\"left\": 2\n",
      "\"bottom\": 8\n",
      "\"right\": 2\n",
      "\"top\": 5\n",
      "\"left\": 1\n",
      "\"bottom\": 37\n",
      "\"right\": 1\n",
      "\"top\": 6\n",
      "\"left\": 2\n",
      "\"bottom\": 8\n",
      "\"right\": 2\n",
      "\"top\": 5\n",
      "\"left\": 1\n",
      "\"bottom\": 37\n",
      "\"right\": 1\n",
      "\"top\": 6\n",
      "\"left\": 2\n",
      "\"bottom\": 8\n",
      "\"right\": 2\n",
      "\"top\": 5\n",
      "\"left\": 1\n",
      "\"bottom\": 37\n",
      "\"right\": 1\n",
      "\"top\": 6\n",
      "\"left\": 2\n",
      "\"bottom\": 8\n",
      "\"right\": 2\n",
      "\"top\": 5\n",
      "\"left\": 1\n",
      "\"bottom\": 37\n",
      "\"right\": 1\n",
      "\"top\": 6\n",
      "\"left\": 2\n",
      "\"bottom\": 8\n",
      "\"right\": 2\n",
      "\"top\": 5\n",
      "\"left\": 1\n",
      "\"bottom\": 37\n",
      "\"right\": 1\n",
      "\"top\": 6\n",
      "\"left\": 2\n",
      "\"bottom\": 8\n",
      "\"right\": 2\n",
      "\"top\": 5\n",
      "\"left\": 1\n",
      "\"bottom\": 37\n",
      "\"right\": 1\n",
      "\"top\": 6\n",
      "\"left\": 2\n",
      "\"bottom\": 8\n",
      "\"right\": 2\n",
      "\"top\": 5\n",
      "\"left\": 1\n",
      "\"bottom\": 37\n",
      "\"right\": 1\n",
      "\"top\": 6\n",
      "\"left\": 2\n",
      "\"bottom\": 8\n",
      "\"right\": 2\n",
      "---------------------------------------------\n",
      "#########################################################################\n",
      "#########################################################################\n",
      "------------------Truth---------------------\n",
      "\"top\": 1\n",
      "\"left\": 1\n",
      "\"bottom\": 644\n",
      "\"right\": 1\n",
      "---------------------------------------------\n",
      "*********************************\n",
      "sheet_data:Sheetdata(Sheet1 of ../data/Deco/xls/debra_perlingiere__8459__List of Consents Rec'd per CES.xlsx\n",
      "sheet_graph:<src.graph.SpreadSheetGraph.SpreadSheetGraph object at 0x136ddfa60>\n",
      "ground_truth:[<labelregions.BoundingBox.BoundingBox object at 0x136a937f0>]\n",
      "*********************************\n"
     ]
    },
    {
     "name": "stderr",
     "output_type": "stream",
     "text": [
      "Test Set Validation of fold 0:   2%|▏         | 1/63 [06:26<6:39:42, 386.81s/it]\n",
      "0it [06:26, ?it/s]\n"
     ]
    },
    {
     "ename": "KeyboardInterrupt",
     "evalue": "",
     "output_type": "error",
     "traceback": [
      "\u001B[0;31m---------------------------------------------------------------------------\u001B[0m",
      "\u001B[0;31mKeyboardInterrupt\u001B[0m                         Traceback (most recent call last)",
      "Cell \u001B[0;32mIn[12], line 3\u001B[0m\n\u001B[1;32m      1\u001B[0m fold_accuracies \u001B[38;5;241m=\u001B[39m []\n\u001B[1;32m      2\u001B[0m \u001B[38;5;28;01mfor\u001B[39;00m fold_num_and_fold \u001B[38;5;129;01min\u001B[39;00m tqdm(\u001B[38;5;28menumerate\u001B[39m(folds)):\n\u001B[0;32m----> 3\u001B[0m     fold_accuracies\u001B[38;5;241m.\u001B[39mappend(\u001B[43mprocess_fold\u001B[49m\u001B[43m(\u001B[49m\u001B[43mfold_num_and_fold\u001B[49m\u001B[43m[\u001B[49m\u001B[38;5;241;43m1\u001B[39;49m\u001B[43m]\u001B[49m\u001B[43m,\u001B[49m\u001B[43m \u001B[49m\u001B[43mfold_num_and_fold\u001B[49m\u001B[43m[\u001B[49m\u001B[38;5;241;43m0\u001B[39;49m\u001B[43m]\u001B[49m\u001B[43m)\u001B[49m)\n",
      "Cell \u001B[0;32mIn[11], line 90\u001B[0m, in \u001B[0;36mprocess_fold\u001B[0;34m(fold, fold_num)\u001B[0m\n\u001B[1;32m     88\u001B[0m     accuracy \u001B[38;5;241m=\u001B[39m CrossValidationTraining\u001B[38;5;241m.\u001B[39mexhaustive_search_accuracy(ground_truth, sheet_graph, rater)\n\u001B[1;32m     89\u001B[0m \u001B[38;5;28;01melse\u001B[39;00m:\n\u001B[0;32m---> 90\u001B[0m     accuracy \u001B[38;5;241m=\u001B[39m \u001B[43mgenetic_search_accuracy\u001B[49m\u001B[43m(\u001B[49m\u001B[43mground_truth\u001B[49m\u001B[43m,\u001B[49m\u001B[43m \u001B[49m\u001B[43msheet_graph\u001B[49m\u001B[43m,\u001B[49m\u001B[43m \u001B[49m\u001B[43mrater\u001B[49m\u001B[43m)\u001B[49m\n\u001B[1;32m     91\u001B[0m file_accuracies[key] \u001B[38;5;241m=\u001B[39m accuracy\n\u001B[1;32m     92\u001B[0m \u001B[38;5;28mprint\u001B[39m(\u001B[38;5;124m'\u001B[39m\u001B[38;5;124m#########################################################################\u001B[39m\u001B[38;5;124m'\u001B[39m)\n",
      "Cell \u001B[0;32mIn[11], line 26\u001B[0m, in \u001B[0;36mgenetic_search_accuracy\u001B[0;34m(ground_truth, sheet_graph, rater)\u001B[0m\n\u001B[1;32m     17\u001B[0m search \u001B[38;5;241m=\u001B[39m GeneticSearch(\n\u001B[1;32m     18\u001B[0m     sheet_graph,\n\u001B[1;32m     19\u001B[0m     rater,\n\u001B[0;32m   (...)\u001B[0m\n\u001B[1;32m     23\u001B[0m     ),\n\u001B[1;32m     24\u001B[0m )\n\u001B[1;32m     25\u001B[0m \u001B[38;5;66;03m# Genetic Search runs multiple times and gets averaged\u001B[39;00m\n\u001B[0;32m---> 26\u001B[0m results \u001B[38;5;241m=\u001B[39m [search\u001B[38;5;241m.\u001B[39mrun() \u001B[38;5;28;01mfor\u001B[39;00m _ \u001B[38;5;129;01min\u001B[39;00m \u001B[38;5;28mrange\u001B[39m(search_rounds)]\n\u001B[1;32m     28\u001B[0m \u001B[38;5;28mprint\u001B[39m(\u001B[38;5;124m'\u001B[39m\u001B[38;5;124m------------------result---------------------\u001B[39m\u001B[38;5;124m'\u001B[39m)\n\u001B[1;32m     29\u001B[0m \u001B[38;5;28;01mfor\u001B[39;00m result \u001B[38;5;129;01min\u001B[39;00m  results:\n",
      "Cell \u001B[0;32mIn[11], line 26\u001B[0m, in \u001B[0;36m<listcomp>\u001B[0;34m(.0)\u001B[0m\n\u001B[1;32m     17\u001B[0m search \u001B[38;5;241m=\u001B[39m GeneticSearch(\n\u001B[1;32m     18\u001B[0m     sheet_graph,\n\u001B[1;32m     19\u001B[0m     rater,\n\u001B[0;32m   (...)\u001B[0m\n\u001B[1;32m     23\u001B[0m     ),\n\u001B[1;32m     24\u001B[0m )\n\u001B[1;32m     25\u001B[0m \u001B[38;5;66;03m# Genetic Search runs multiple times and gets averaged\u001B[39;00m\n\u001B[0;32m---> 26\u001B[0m results \u001B[38;5;241m=\u001B[39m [\u001B[43msearch\u001B[49m\u001B[38;5;241;43m.\u001B[39;49m\u001B[43mrun\u001B[49m\u001B[43m(\u001B[49m\u001B[43m)\u001B[49m \u001B[38;5;28;01mfor\u001B[39;00m _ \u001B[38;5;129;01min\u001B[39;00m \u001B[38;5;28mrange\u001B[39m(search_rounds)]\n\u001B[1;32m     28\u001B[0m \u001B[38;5;28mprint\u001B[39m(\u001B[38;5;124m'\u001B[39m\u001B[38;5;124m------------------result---------------------\u001B[39m\u001B[38;5;124m'\u001B[39m)\n\u001B[1;32m     29\u001B[0m \u001B[38;5;28;01mfor\u001B[39;00m result \u001B[38;5;129;01min\u001B[39;00m  results:\n",
      "File \u001B[0;32m~/Downloads/TableRecognition21-main/src/search/GeneticSearch.py:84\u001B[0m, in \u001B[0;36mGeneticSearch.run\u001B[0;34m(self)\u001B[0m\n\u001B[1;32m     82\u001B[0m children: List[IndividualType] \u001B[38;5;241m=\u001B[39m []\n\u001B[1;32m     83\u001B[0m \u001B[38;5;28;01mfor\u001B[39;00m _ \u001B[38;5;129;01min\u001B[39;00m \u001B[38;5;28mrange\u001B[39m(\u001B[38;5;28mself\u001B[39m\u001B[38;5;241m.\u001B[39mconfiguration\u001B[38;5;241m.\u001B[39mn_offspring):\n\u001B[0;32m---> 84\u001B[0m     children\u001B[38;5;241m.\u001B[39mappend(\u001B[38;5;28;43mself\u001B[39;49m\u001B[38;5;241;43m.\u001B[39;49m\u001B[43mchild_from_population\u001B[49m\u001B[43m(\u001B[49m\u001B[43m)\u001B[49m)\n\u001B[1;32m     86\u001B[0m \u001B[38;5;28mself\u001B[39m\u001B[38;5;241m.\u001B[39mupdate_hall_of_fame(children)\n\u001B[1;32m     88\u001B[0m \u001B[38;5;66;03m# Total generation population\u001B[39;00m\n",
      "File \u001B[0;32m~/Downloads/TableRecognition21-main/src/search/GeneticSearch.py:124\u001B[0m, in \u001B[0;36mGeneticSearch.child_from_population\u001B[0;34m(self)\u001B[0m\n\u001B[1;32m    120\u001B[0m \u001B[38;5;28;01melse\u001B[39;00m:\n\u001B[1;32m    121\u001B[0m     \u001B[38;5;66;03m# No mutation\u001B[39;00m\n\u001B[1;32m    122\u001B[0m     child \u001B[38;5;241m=\u001B[39m random\u001B[38;5;241m.\u001B[39mchoice(potential_parents)\n\u001B[0;32m--> 124\u001B[0m \u001B[38;5;28;01mreturn\u001B[39;00m child, \u001B[38;5;28;43mself\u001B[39;49m\u001B[38;5;241;43m.\u001B[39;49m\u001B[43mrate_edge_toggle_list\u001B[49m\u001B[43m(\u001B[49m\u001B[43mchild\u001B[49m\u001B[43m)\u001B[49m\n",
      "File \u001B[0;32m~/Downloads/TableRecognition21-main/src/search/AbstractSearch.py:22\u001B[0m, in \u001B[0;36mAbstractSearch.rate_edge_toggle_list\u001B[0;34m(self, edge_toggle_list)\u001B[0m\n\u001B[1;32m     21\u001B[0m \u001B[38;5;28;01mdef\u001B[39;00m \u001B[38;5;21mrate_edge_toggle_list\u001B[39m(\u001B[38;5;28mself\u001B[39m, edge_toggle_list: List[\u001B[38;5;28mbool\u001B[39m]):\n\u001B[0;32m---> 22\u001B[0m     \u001B[38;5;28;01mreturn\u001B[39;00m \u001B[38;5;28;43mself\u001B[39;49m\u001B[38;5;241;43m.\u001B[39;49m\u001B[43mrater\u001B[49m\u001B[38;5;241;43m.\u001B[39;49m\u001B[43mrate\u001B[49m\u001B[43m(\u001B[49m\u001B[38;5;28;43mself\u001B[39;49m\u001B[38;5;241;43m.\u001B[39;49m\u001B[43mgraph\u001B[49m\u001B[43m,\u001B[49m\u001B[43m \u001B[49m\u001B[43medge_toggle_list\u001B[49m\u001B[43m)\u001B[49m\n",
      "File \u001B[0;32m~/Downloads/TableRecognition21-main/src/search/FitnessRater.py:305\u001B[0m, in \u001B[0;36mFitnessRater.rate\u001B[0;34m(self, graph, edge_toggle_list)\u001B[0m\n\u001B[1;32m    303\u001B[0m old_toggle_list \u001B[38;5;241m=\u001B[39m graph\u001B[38;5;241m.\u001B[39medge_toggle_list\n\u001B[1;32m    304\u001B[0m graph\u001B[38;5;241m.\u001B[39medge_toggle_list \u001B[38;5;241m=\u001B[39m edge_toggle_list\n\u001B[0;32m--> 305\u001B[0m components \u001B[38;5;241m=\u001B[39m [GraphComponentData(c, graph) \u001B[38;5;28;01mfor\u001B[39;00m c \u001B[38;5;129;01min\u001B[39;00m \u001B[43mgraph\u001B[49m\u001B[38;5;241;43m.\u001B[39;49m\u001B[43mget_components\u001B[49m\u001B[43m(\u001B[49m\u001B[43m)\u001B[49m]\n\u001B[1;32m    306\u001B[0m graph\u001B[38;5;241m.\u001B[39medge_toggle_list \u001B[38;5;241m=\u001B[39m old_toggle_list\n\u001B[1;32m    308\u001B[0m scores_per_component \u001B[38;5;241m=\u001B[39m []\n",
      "File \u001B[0;32m~/Downloads/TableRecognition21-main/src/graph/SpreadSheetGraph.py:162\u001B[0m, in \u001B[0;36mSpreadSheetGraph.get_components\u001B[0;34m(self)\u001B[0m\n\u001B[1;32m    159\u001B[0m components: List[List[LabelRegion]] \u001B[38;5;241m=\u001B[39m []\n\u001B[1;32m    161\u001B[0m visited: List[\u001B[38;5;28mint\u001B[39m] \u001B[38;5;241m=\u001B[39m []\n\u001B[0;32m--> 162\u001B[0m adj_list \u001B[38;5;241m=\u001B[39m \u001B[38;5;28;43mself\u001B[39;49m\u001B[38;5;241;43m.\u001B[39;49m\u001B[43mbuild_adj_list\u001B[49m\u001B[43m(\u001B[49m\u001B[38;5;28;43mself\u001B[39;49m\u001B[38;5;241;43m.\u001B[39;49m\u001B[43menabled_edges\u001B[49m\u001B[43m(\u001B[49m\u001B[43m)\u001B[49m\u001B[43m)\u001B[49m\n\u001B[1;32m    163\u001B[0m \u001B[38;5;28;01mfor\u001B[39;00m node \u001B[38;5;129;01min\u001B[39;00m \u001B[38;5;28mself\u001B[39m\u001B[38;5;241m.\u001B[39mnodes:\n\u001B[1;32m    164\u001B[0m     \u001B[38;5;28;01mif\u001B[39;00m node\u001B[38;5;241m.\u001B[39mid \u001B[38;5;129;01min\u001B[39;00m visited:\n\u001B[1;32m    165\u001B[0m         \u001B[38;5;66;03m# Node already marked and therefore already part of a component\u001B[39;00m\n",
      "File \u001B[0;32m~/Downloads/TableRecognition21-main/src/graph/SpreadSheetGraph.py:152\u001B[0m, in \u001B[0;36mSpreadSheetGraph.build_adj_list\u001B[0;34m(self, edges)\u001B[0m\n\u001B[1;32m    149\u001B[0m     adj_list[node] \u001B[38;5;241m=\u001B[39m \u001B[38;5;28mset\u001B[39m()\n\u001B[1;32m    151\u001B[0m \u001B[38;5;28;01mfor\u001B[39;00m edge \u001B[38;5;129;01min\u001B[39;00m edges:\n\u001B[0;32m--> 152\u001B[0m     \u001B[43madj_list\u001B[49m\u001B[43m[\u001B[49m\u001B[43medge\u001B[49m\u001B[38;5;241;43m.\u001B[39;49m\u001B[43msource\u001B[49m\u001B[43m]\u001B[49m\u001B[38;5;241;43m.\u001B[39;49m\u001B[43madd\u001B[49m\u001B[43m(\u001B[49m\u001B[43medge\u001B[49m\u001B[38;5;241;43m.\u001B[39;49m\u001B[43mdestination\u001B[49m\u001B[43m)\u001B[49m\n\u001B[1;32m    153\u001B[0m     adj_list[edge\u001B[38;5;241m.\u001B[39mdestination]\u001B[38;5;241m.\u001B[39madd(edge\u001B[38;5;241m.\u001B[39msource)\n\u001B[1;32m    155\u001B[0m \u001B[38;5;28;01mreturn\u001B[39;00m adj_list\n",
      "\u001B[0;31mKeyboardInterrupt\u001B[0m: "
     ]
    }
   ],
   "source": [
    "fold_accuracies = []\n",
    "for fold_num_and_fold in tqdm(enumerate(folds)):\n",
    "    fold_accuracies.append(process_fold(fold_num_and_fold[1], fold_num_and_fold[0]))"
   ],
   "metadata": {
    "collapsed": false,
    "ExecuteTime": {
     "end_time": "2023-05-28T04:12:25.976035293Z",
     "start_time": "2023-05-28T03:25:56.209626744Z"
    },
    "pycharm": {
     "name": "#%%\n"
    }
   }
  }
 ],
 "metadata": {
  "kernelspec": {
   "display_name": "Python 3",
   "language": "python",
   "name": "python3"
  },
  "language_info": {
   "codemirror_mode": {
    "name": "ipython",
    "version": 2
   },
   "file_extension": ".py",
   "mimetype": "text/x-python",
   "name": "python",
   "nbconvert_exporter": "python",
   "pygments_lexer": "ipython2",
   "version": "2.7.6"
  }
 },
 "nbformat": 4,
 "nbformat_minor": 0
}